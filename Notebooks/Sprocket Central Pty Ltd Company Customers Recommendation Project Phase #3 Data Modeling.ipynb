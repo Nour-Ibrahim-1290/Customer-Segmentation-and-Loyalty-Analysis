{
 "cells": [
  {
   "cell_type": "markdown",
   "id": "8d4c04f5",
   "metadata": {},
   "source": [
    "# Sprocket Central Pty Ltd Company Customers Recommendation Project Phase #3 Data Modeling\n",
    "\n",
    "## KPMG Virtual Internship\n",
    "\n",
    "<img src=\"sprocket_central.png\">\n",
    "\n",
    "### About the Dataset:\n",
    "**Sprocket Central Pty Ltd**, a medium size bikes & cycling accessories organisation which has a large dataset relating to its customers, but their team is unsure how to effectively analyse it to help optimise its marketing strategy.\n",
    "\n",
    "#### Dataset:\n",
    "1. **Training Dataset:** The Dataset we genrated out of Phase#2 \"EAD & RFM Analysis.\n",
    "2. **New Customer List:** The dataset that the client provided of new potential customers to recommend customers for the marketing team to target.\n",
    "\n",
    "#### In this Phase I'll:\n",
    "1. Check the state of \"customer_data_RFM_Analysis.csv\" dataset to be ready for model.\n",
    "2. Clean and Optimize \"NewCustomerList\" Dataset to be ready for the Model.\n",
    "3. Train Two Machine Learning Models on the train data set and measure the accuracy of each model to choose one to deploy on the new Customer dataset.\n",
    "4. Deploy the choosen Model on New Customers dataset and Extract the resulting recommendation in a CSV File.\n",
    "5. Create a Tableau Dashboard to Reort the Resulted through (Dashboard Link).\n"
   ]
  },
  {
   "cell_type": "code",
   "execution_count": 1,
   "id": "31a59c46",
   "metadata": {},
   "outputs": [],
   "source": [
    "#importing the necessary data analytics libraries\n",
    "import pandas as pd\n",
    "import numpy as np\n",
    "import datetime as dt\n",
    "import calendar\n",
    "\n",
    "# ML Modeling\n",
    "from sklearn.preprocessing import LabelEncoder\n",
    "\n",
    "# suppress warnings \n",
    "import warnings\n",
    "warnings.simplefilter(\"ignore\")\n"
   ]
  },
  {
   "cell_type": "markdown",
   "id": "02c18aef",
   "metadata": {},
   "source": [
    "## [1] Check the state of \"customer_data_RFM_Analysis.csv\" dataset to be ready for Modelling:"
   ]
  },
  {
   "cell_type": "code",
   "execution_count": 2,
   "id": "c1f39fc5",
   "metadata": {},
   "outputs": [
    {
     "data": {
      "text/html": [
       "<div>\n",
       "<style scoped>\n",
       "    .dataframe tbody tr th:only-of-type {\n",
       "        vertical-align: middle;\n",
       "    }\n",
       "\n",
       "    .dataframe tbody tr th {\n",
       "        vertical-align: top;\n",
       "    }\n",
       "\n",
       "    .dataframe thead th {\n",
       "        text-align: right;\n",
       "    }\n",
       "</style>\n",
       "<table border=\"1\" class=\"dataframe\">\n",
       "  <thead>\n",
       "    <tr style=\"text-align: right;\">\n",
       "      <th></th>\n",
       "      <th>Unnamed: 0</th>\n",
       "      <th>transaction_id</th>\n",
       "      <th>product_id</th>\n",
       "      <th>customer_id</th>\n",
       "      <th>transaction_date</th>\n",
       "      <th>online_order</th>\n",
       "      <th>order_status</th>\n",
       "      <th>brand</th>\n",
       "      <th>product_line</th>\n",
       "      <th>product_class</th>\n",
       "      <th>...</th>\n",
       "      <th>standard_profit</th>\n",
       "      <th>recency</th>\n",
       "      <th>frequency</th>\n",
       "      <th>monetary</th>\n",
       "      <th>R</th>\n",
       "      <th>F</th>\n",
       "      <th>M</th>\n",
       "      <th>RFMClass</th>\n",
       "      <th>RFMscore</th>\n",
       "      <th>RFM_loyalty_level</th>\n",
       "    </tr>\n",
       "  </thead>\n",
       "  <tbody>\n",
       "    <tr>\n",
       "      <th>0</th>\n",
       "      <td>0</td>\n",
       "      <td>1</td>\n",
       "      <td>2</td>\n",
       "      <td>2950</td>\n",
       "      <td>2017-02-25</td>\n",
       "      <td>False</td>\n",
       "      <td>Approved</td>\n",
       "      <td>Solex</td>\n",
       "      <td>Standard</td>\n",
       "      <td>medium</td>\n",
       "      <td>...</td>\n",
       "      <td>17.87</td>\n",
       "      <td>76</td>\n",
       "      <td>3</td>\n",
       "      <td>645.99</td>\n",
       "      <td>3</td>\n",
       "      <td>4</td>\n",
       "      <td>4</td>\n",
       "      <td>344</td>\n",
       "      <td>11</td>\n",
       "      <td>Bronze</td>\n",
       "    </tr>\n",
       "  </tbody>\n",
       "</table>\n",
       "<p>1 rows × 41 columns</p>\n",
       "</div>"
      ],
      "text/plain": [
       "   Unnamed: 0  transaction_id  product_id  customer_id transaction_date  \\\n",
       "0           0               1           2         2950       2017-02-25   \n",
       "\n",
       "   online_order order_status  brand product_line product_class  ...  \\\n",
       "0         False     Approved  Solex     Standard        medium  ...   \n",
       "\n",
       "  standard_profit  recency  frequency monetary  R  F  M RFMClass RFMscore  \\\n",
       "0           17.87       76          3   645.99  3  4  4      344       11   \n",
       "\n",
       "   RFM_loyalty_level  \n",
       "0             Bronze  \n",
       "\n",
       "[1 rows x 41 columns]"
      ]
     },
     "execution_count": 2,
     "metadata": {},
     "output_type": "execute_result"
    }
   ],
   "source": [
    "old_df = pd.read_csv(\"customer_data_RFM_Analysis.csv\")\n",
    "old_df.head(1)"
   ]
  },
  {
   "cell_type": "code",
   "execution_count": 3,
   "id": "efa5d8ca",
   "metadata": {},
   "outputs": [
    {
     "name": "stdout",
     "output_type": "stream",
     "text": [
      "<class 'pandas.core.frame.DataFrame'>\n",
      "RangeIndex: 19585 entries, 0 to 19584\n",
      "Data columns (total 40 columns):\n",
      " #   Column                               Non-Null Count  Dtype  \n",
      "---  ------                               --------------  -----  \n",
      " 0   transaction_id                       19585 non-null  int64  \n",
      " 1   product_id                           19585 non-null  int64  \n",
      " 2   customer_id                          19585 non-null  int64  \n",
      " 3   transaction_date                     19585 non-null  object \n",
      " 4   online_order                         19585 non-null  bool   \n",
      " 5   order_status                         19585 non-null  object \n",
      " 6   brand                                19585 non-null  object \n",
      " 7   product_line                         19585 non-null  object \n",
      " 8   product_class                        19585 non-null  object \n",
      " 9   product_size                         19585 non-null  object \n",
      " 10  list_price                           19585 non-null  float64\n",
      " 11  standard_cost                        19585 non-null  float64\n",
      " 12  product_first_sold_date              19585 non-null  object \n",
      " 13  Transaction_year                     19585 non-null  int64  \n",
      " 14  Transaction_month                    19585 non-null  object \n",
      " 15  Transaction_day                      19585 non-null  int64  \n",
      " 16  day_of_the_week                      19585 non-null  object \n",
      " 17  gender                               19585 non-null  object \n",
      " 18  past_3_years_bike_related_purchases  19585 non-null  float64\n",
      " 19  job_title                            19585 non-null  object \n",
      " 20  job_industry_category                19585 non-null  object \n",
      " 21  wealth_segment                       19585 non-null  object \n",
      " 22  deceased_indicator                   19585 non-null  object \n",
      " 23  owns_car                             19585 non-null  object \n",
      " 24  tenure                               19585 non-null  int64  \n",
      " 25  Age                                  19585 non-null  int64  \n",
      " 26  age_group                            19585 non-null  object \n",
      " 27  postcode                             19585 non-null  float64\n",
      " 28  state                                19585 non-null  object \n",
      " 29  property_valuation                   19585 non-null  int64  \n",
      " 30  standard_profit                      19585 non-null  float64\n",
      " 31  recency                              19585 non-null  int64  \n",
      " 32  frequency                            19585 non-null  int64  \n",
      " 33  monetary                             19585 non-null  float64\n",
      " 34  R                                    19585 non-null  int64  \n",
      " 35  F                                    19585 non-null  int64  \n",
      " 36  M                                    19585 non-null  int64  \n",
      " 37  RFMClass                             19585 non-null  int64  \n",
      " 38  RFMscore                             19585 non-null  int64  \n",
      " 39  RFM_loyalty_level                    19585 non-null  object \n",
      "dtypes: bool(1), float64(6), int64(15), object(18)\n",
      "memory usage: 4.5+ MB\n"
     ]
    }
   ],
   "source": [
    "old_df.drop(axis=1, columns='Unnamed: 0', inplace=True)\n",
    "old_df.info()"
   ]
  },
  {
   "cell_type": "markdown",
   "id": "41cd5bf0",
   "metadata": {},
   "source": [
    "### Creating old_df_1 dataset with only the features to be used in modeling."
   ]
  },
  {
   "cell_type": "code",
   "execution_count": 4,
   "id": "134fc58e",
   "metadata": {},
   "outputs": [],
   "source": [
    "old_df_1 = old_df[['gender', 'past_3_years_bike_related_purchases','Age', 'job_industry_category','wealth_segment',\n",
    "                  'owns_car','tenure','postcode','state','property_valuation']]"
   ]
  },
  {
   "cell_type": "code",
   "execution_count": 5,
   "id": "b29dbbdf",
   "metadata": {},
   "outputs": [
    {
     "name": "stdout",
     "output_type": "stream",
     "text": [
      "<class 'pandas.core.frame.DataFrame'>\n",
      "RangeIndex: 19585 entries, 0 to 19584\n",
      "Data columns (total 10 columns):\n",
      " #   Column                               Non-Null Count  Dtype  \n",
      "---  ------                               --------------  -----  \n",
      " 0   gender                               19585 non-null  object \n",
      " 1   past_3_years_bike_related_purchases  19585 non-null  float64\n",
      " 2   Age                                  19585 non-null  int64  \n",
      " 3   job_industry_category                19585 non-null  object \n",
      " 4   wealth_segment                       19585 non-null  object \n",
      " 5   owns_car                             19585 non-null  object \n",
      " 6   tenure                               19585 non-null  int64  \n",
      " 7   postcode                             19585 non-null  float64\n",
      " 8   state                                19585 non-null  object \n",
      " 9   property_valuation                   19585 non-null  int64  \n",
      "dtypes: float64(2), int64(3), object(5)\n",
      "memory usage: 1.1+ MB\n"
     ]
    }
   ],
   "source": [
    "old_df_1.info()"
   ]
  },
  {
   "cell_type": "markdown",
   "id": "104b3622",
   "metadata": {},
   "source": [
    "### Cleaning Notes (Preparing Old Customer List for Modeling):\n",
    "1. Transform (gender | job_industry_category | owns_car | state) into binary columns (nominal columns).\n",
    "2. Convert (wealth_segment) inti binary using label incoder (ordinal category).\n",
    "3. Change (postcode) into int."
   ]
  },
  {
   "cell_type": "code",
   "execution_count": 6,
   "id": "bfed35ee",
   "metadata": {
    "scrolled": true
   },
   "outputs": [
    {
     "data": {
      "text/html": [
       "<div>\n",
       "<style scoped>\n",
       "    .dataframe tbody tr th:only-of-type {\n",
       "        vertical-align: middle;\n",
       "    }\n",
       "\n",
       "    .dataframe tbody tr th {\n",
       "        vertical-align: top;\n",
       "    }\n",
       "\n",
       "    .dataframe thead th {\n",
       "        text-align: right;\n",
       "    }\n",
       "</style>\n",
       "<table border=\"1\" class=\"dataframe\">\n",
       "  <thead>\n",
       "    <tr style=\"text-align: right;\">\n",
       "      <th></th>\n",
       "      <th>Male</th>\n",
       "      <th>past_3_years_bike_related_purchases</th>\n",
       "      <th>Age</th>\n",
       "      <th>job_industry_category</th>\n",
       "      <th>wealth_segment</th>\n",
       "      <th>owns_car</th>\n",
       "      <th>tenure</th>\n",
       "      <th>postcode</th>\n",
       "      <th>state</th>\n",
       "      <th>property_valuation</th>\n",
       "    </tr>\n",
       "  </thead>\n",
       "  <tbody>\n",
       "    <tr>\n",
       "      <th>0</th>\n",
       "      <td>1</td>\n",
       "      <td>19.0</td>\n",
       "      <td>67</td>\n",
       "      <td>Financial Services</td>\n",
       "      <td>Mass Customer</td>\n",
       "      <td>Yes</td>\n",
       "      <td>10</td>\n",
       "      <td>3064.0</td>\n",
       "      <td>VIC</td>\n",
       "      <td>6</td>\n",
       "    </tr>\n",
       "  </tbody>\n",
       "</table>\n",
       "</div>"
      ],
      "text/plain": [
       "   Male  past_3_years_bike_related_purchases  Age job_industry_category  \\\n",
       "0     1                                 19.0   67    Financial Services   \n",
       "\n",
       "  wealth_segment owns_car  tenure  postcode state  property_valuation  \n",
       "0  Mass Customer      Yes      10    3064.0   VIC                   6  "
      ]
     },
     "execution_count": 6,
     "metadata": {},
     "output_type": "execute_result"
    }
   ],
   "source": [
    "old_df_1 = pd.concat([pd.get_dummies(old_df_1.gender,drop_first=True),old_df_1], axis=1)\n",
    "old_df_1.drop(axis=1, columns='gender', inplace=True)\n",
    "old_df_1.head(1)"
   ]
  },
  {
   "cell_type": "code",
   "execution_count": 7,
   "id": "03e5bf18",
   "metadata": {},
   "outputs": [
    {
     "data": {
      "text/html": [
       "<div>\n",
       "<style scoped>\n",
       "    .dataframe tbody tr th:only-of-type {\n",
       "        vertical-align: middle;\n",
       "    }\n",
       "\n",
       "    .dataframe tbody tr th {\n",
       "        vertical-align: top;\n",
       "    }\n",
       "\n",
       "    .dataframe thead th {\n",
       "        text-align: right;\n",
       "    }\n",
       "</style>\n",
       "<table border=\"1\" class=\"dataframe\">\n",
       "  <thead>\n",
       "    <tr style=\"text-align: right;\">\n",
       "      <th></th>\n",
       "      <th>Entertainment</th>\n",
       "      <th>Financial Services</th>\n",
       "      <th>Health</th>\n",
       "      <th>IT</th>\n",
       "      <th>Manufacturing</th>\n",
       "      <th>Property</th>\n",
       "      <th>Retail</th>\n",
       "      <th>Telecommunications</th>\n",
       "      <th>Male</th>\n",
       "      <th>past_3_years_bike_related_purchases</th>\n",
       "      <th>Age</th>\n",
       "      <th>wealth_segment</th>\n",
       "      <th>owns_car</th>\n",
       "      <th>tenure</th>\n",
       "      <th>postcode</th>\n",
       "      <th>state</th>\n",
       "      <th>property_valuation</th>\n",
       "    </tr>\n",
       "  </thead>\n",
       "  <tbody>\n",
       "    <tr>\n",
       "      <th>0</th>\n",
       "      <td>0</td>\n",
       "      <td>1</td>\n",
       "      <td>0</td>\n",
       "      <td>0</td>\n",
       "      <td>0</td>\n",
       "      <td>0</td>\n",
       "      <td>0</td>\n",
       "      <td>0</td>\n",
       "      <td>1</td>\n",
       "      <td>19.0</td>\n",
       "      <td>67</td>\n",
       "      <td>Mass Customer</td>\n",
       "      <td>Yes</td>\n",
       "      <td>10</td>\n",
       "      <td>3064.0</td>\n",
       "      <td>VIC</td>\n",
       "      <td>6</td>\n",
       "    </tr>\n",
       "  </tbody>\n",
       "</table>\n",
       "</div>"
      ],
      "text/plain": [
       "   Entertainment  Financial Services  Health  IT  Manufacturing  Property  \\\n",
       "0              0                   1       0   0              0         0   \n",
       "\n",
       "   Retail  Telecommunications  Male  past_3_years_bike_related_purchases  Age  \\\n",
       "0       0                   0     1                                 19.0   67   \n",
       "\n",
       "  wealth_segment owns_car  tenure  postcode state  property_valuation  \n",
       "0  Mass Customer      Yes      10    3064.0   VIC                   6  "
      ]
     },
     "execution_count": 7,
     "metadata": {},
     "output_type": "execute_result"
    }
   ],
   "source": [
    "old_df_1 = pd.concat([pd.get_dummies(old_df_1.job_industry_category,drop_first=True),old_df_1], axis=1)\n",
    "old_df_1.drop(axis=1, columns='job_industry_category', inplace=True)\n",
    "old_df_1.head(1)"
   ]
  },
  {
   "cell_type": "code",
   "execution_count": 8,
   "id": "93eb575b",
   "metadata": {},
   "outputs": [
    {
     "data": {
      "text/html": [
       "<div>\n",
       "<style scoped>\n",
       "    .dataframe tbody tr th:only-of-type {\n",
       "        vertical-align: middle;\n",
       "    }\n",
       "\n",
       "    .dataframe tbody tr th {\n",
       "        vertical-align: top;\n",
       "    }\n",
       "\n",
       "    .dataframe thead th {\n",
       "        text-align: right;\n",
       "    }\n",
       "</style>\n",
       "<table border=\"1\" class=\"dataframe\">\n",
       "  <thead>\n",
       "    <tr style=\"text-align: right;\">\n",
       "      <th></th>\n",
       "      <th>owns_car_Yes</th>\n",
       "      <th>Entertainment</th>\n",
       "      <th>Financial Services</th>\n",
       "      <th>Health</th>\n",
       "      <th>IT</th>\n",
       "      <th>Manufacturing</th>\n",
       "      <th>Property</th>\n",
       "      <th>Retail</th>\n",
       "      <th>Telecommunications</th>\n",
       "      <th>Male</th>\n",
       "      <th>past_3_years_bike_related_purchases</th>\n",
       "      <th>Age</th>\n",
       "      <th>wealth_segment</th>\n",
       "      <th>tenure</th>\n",
       "      <th>postcode</th>\n",
       "      <th>state</th>\n",
       "      <th>property_valuation</th>\n",
       "    </tr>\n",
       "  </thead>\n",
       "  <tbody>\n",
       "    <tr>\n",
       "      <th>0</th>\n",
       "      <td>1</td>\n",
       "      <td>0</td>\n",
       "      <td>1</td>\n",
       "      <td>0</td>\n",
       "      <td>0</td>\n",
       "      <td>0</td>\n",
       "      <td>0</td>\n",
       "      <td>0</td>\n",
       "      <td>0</td>\n",
       "      <td>1</td>\n",
       "      <td>19.0</td>\n",
       "      <td>67</td>\n",
       "      <td>Mass Customer</td>\n",
       "      <td>10</td>\n",
       "      <td>3064.0</td>\n",
       "      <td>VIC</td>\n",
       "      <td>6</td>\n",
       "    </tr>\n",
       "  </tbody>\n",
       "</table>\n",
       "</div>"
      ],
      "text/plain": [
       "   owns_car_Yes  Entertainment  Financial Services  Health  IT  Manufacturing  \\\n",
       "0             1              0                   1       0   0              0   \n",
       "\n",
       "   Property  Retail  Telecommunications  Male  \\\n",
       "0         0       0                   0     1   \n",
       "\n",
       "   past_3_years_bike_related_purchases  Age wealth_segment  tenure  postcode  \\\n",
       "0                                 19.0   67  Mass Customer      10    3064.0   \n",
       "\n",
       "  state  property_valuation  \n",
       "0   VIC                   6  "
      ]
     },
     "execution_count": 8,
     "metadata": {},
     "output_type": "execute_result"
    }
   ],
   "source": [
    "old_df_1 = pd.concat([pd.get_dummies(old_df_1.owns_car,drop_first=True),old_df_1], axis=1)\n",
    "old_df_1.drop(axis=1, columns='owns_car', inplace=True)\n",
    "old_df_1.rename(columns={'Yes':'owns_car_Yes'}, inplace=True)\n",
    "old_df_1.head(1)"
   ]
  },
  {
   "cell_type": "code",
   "execution_count": 9,
   "id": "15495894",
   "metadata": {},
   "outputs": [
    {
     "data": {
      "text/html": [
       "<div>\n",
       "<style scoped>\n",
       "    .dataframe tbody tr th:only-of-type {\n",
       "        vertical-align: middle;\n",
       "    }\n",
       "\n",
       "    .dataframe tbody tr th {\n",
       "        vertical-align: top;\n",
       "    }\n",
       "\n",
       "    .dataframe thead th {\n",
       "        text-align: right;\n",
       "    }\n",
       "</style>\n",
       "<table border=\"1\" class=\"dataframe\">\n",
       "  <thead>\n",
       "    <tr style=\"text-align: right;\">\n",
       "      <th></th>\n",
       "      <th>QLD</th>\n",
       "      <th>VIC</th>\n",
       "      <th>owns_car_Yes</th>\n",
       "      <th>Entertainment</th>\n",
       "      <th>Financial Services</th>\n",
       "      <th>Health</th>\n",
       "      <th>IT</th>\n",
       "      <th>Manufacturing</th>\n",
       "      <th>Property</th>\n",
       "      <th>Retail</th>\n",
       "      <th>Telecommunications</th>\n",
       "      <th>Male</th>\n",
       "      <th>past_3_years_bike_related_purchases</th>\n",
       "      <th>Age</th>\n",
       "      <th>wealth_segment</th>\n",
       "      <th>tenure</th>\n",
       "      <th>postcode</th>\n",
       "      <th>property_valuation</th>\n",
       "    </tr>\n",
       "  </thead>\n",
       "  <tbody>\n",
       "    <tr>\n",
       "      <th>0</th>\n",
       "      <td>0</td>\n",
       "      <td>1</td>\n",
       "      <td>1</td>\n",
       "      <td>0</td>\n",
       "      <td>1</td>\n",
       "      <td>0</td>\n",
       "      <td>0</td>\n",
       "      <td>0</td>\n",
       "      <td>0</td>\n",
       "      <td>0</td>\n",
       "      <td>0</td>\n",
       "      <td>1</td>\n",
       "      <td>19.0</td>\n",
       "      <td>67</td>\n",
       "      <td>Mass Customer</td>\n",
       "      <td>10</td>\n",
       "      <td>3064.0</td>\n",
       "      <td>6</td>\n",
       "    </tr>\n",
       "  </tbody>\n",
       "</table>\n",
       "</div>"
      ],
      "text/plain": [
       "   QLD  VIC  owns_car_Yes  Entertainment  Financial Services  Health  IT  \\\n",
       "0    0    1             1              0                   1       0   0   \n",
       "\n",
       "   Manufacturing  Property  Retail  Telecommunications  Male  \\\n",
       "0              0         0       0                   0     1   \n",
       "\n",
       "   past_3_years_bike_related_purchases  Age wealth_segment  tenure  postcode  \\\n",
       "0                                 19.0   67  Mass Customer      10    3064.0   \n",
       "\n",
       "   property_valuation  \n",
       "0                   6  "
      ]
     },
     "execution_count": 9,
     "metadata": {},
     "output_type": "execute_result"
    }
   ],
   "source": [
    "old_df_1 = pd.concat([pd.get_dummies(old_df_1.state,drop_first=True),old_df_1], axis=1)\n",
    "old_df_1.drop(axis=1, columns='state', inplace=True)\n",
    "old_df_1.head(1)"
   ]
  },
  {
   "cell_type": "code",
   "execution_count": 10,
   "id": "28f5bd15",
   "metadata": {},
   "outputs": [],
   "source": [
    "# changing wealth_segment data columns using Label  Encoder into binary\n",
    "old_df_1['wealth_segment']=LabelEncoder().fit_transform(old_df_1['wealth_segment'])"
   ]
  },
  {
   "cell_type": "code",
   "execution_count": 11,
   "id": "ad0f9895",
   "metadata": {},
   "outputs": [],
   "source": [
    "old_df_1.postcode = old_df_1.postcode.astype(int)"
   ]
  },
  {
   "cell_type": "code",
   "execution_count": 12,
   "id": "6925bbca",
   "metadata": {},
   "outputs": [
    {
     "name": "stdout",
     "output_type": "stream",
     "text": [
      "<class 'pandas.core.frame.DataFrame'>\n",
      "RangeIndex: 19585 entries, 0 to 19584\n",
      "Data columns (total 18 columns):\n",
      " #   Column                               Non-Null Count  Dtype  \n",
      "---  ------                               --------------  -----  \n",
      " 0   QLD                                  19585 non-null  uint8  \n",
      " 1   VIC                                  19585 non-null  uint8  \n",
      " 2   owns_car_Yes                         19585 non-null  uint8  \n",
      " 3   Entertainment                        19585 non-null  uint8  \n",
      " 4   Financial Services                   19585 non-null  uint8  \n",
      " 5   Health                               19585 non-null  uint8  \n",
      " 6   IT                                   19585 non-null  uint8  \n",
      " 7   Manufacturing                        19585 non-null  uint8  \n",
      " 8   Property                             19585 non-null  uint8  \n",
      " 9   Retail                               19585 non-null  uint8  \n",
      " 10  Telecommunications                   19585 non-null  uint8  \n",
      " 11  Male                                 19585 non-null  uint8  \n",
      " 12  past_3_years_bike_related_purchases  19585 non-null  float64\n",
      " 13  Age                                  19585 non-null  int64  \n",
      " 14  wealth_segment                       19585 non-null  int32  \n",
      " 15  tenure                               19585 non-null  int64  \n",
      " 16  postcode                             19585 non-null  int32  \n",
      " 17  property_valuation                   19585 non-null  int64  \n",
      "dtypes: float64(1), int32(2), int64(3), uint8(12)\n",
      "memory usage: 994.6 KB\n"
     ]
    }
   ],
   "source": [
    "old_df_1.info()"
   ]
  },
  {
   "cell_type": "markdown",
   "id": "a8c180fd",
   "metadata": {},
   "source": [
    "## [2] New Customer List (Data Wrangling, Cleaning, and Feature Engineering):"
   ]
  },
  {
   "cell_type": "code",
   "execution_count": 13,
   "id": "f14a302f",
   "metadata": {},
   "outputs": [
    {
     "data": {
      "text/plain": [
       "['Title Sheet',\n",
       " 'Transactions',\n",
       " 'NewCustomerList',\n",
       " 'CustomerDemographic',\n",
       " 'CustomerAddress']"
      ]
     },
     "execution_count": 13,
     "metadata": {},
     "output_type": "execute_result"
    }
   ],
   "source": [
    "# Excel file name: \n",
    "filename = \"KPMG_VI_New_raw_data_update_final.xlsx\"\n",
    "\n",
    "xls = pd.ExcelFile(filename)\n",
    "sheets = xls.sheet_names\n",
    "sheets"
   ]
  },
  {
   "cell_type": "code",
   "execution_count": 14,
   "id": "9b2b821c",
   "metadata": {},
   "outputs": [
    {
     "data": {
      "text/html": [
       "<div>\n",
       "<style scoped>\n",
       "    .dataframe tbody tr th:only-of-type {\n",
       "        vertical-align: middle;\n",
       "    }\n",
       "\n",
       "    .dataframe tbody tr th {\n",
       "        vertical-align: top;\n",
       "    }\n",
       "\n",
       "    .dataframe thead th {\n",
       "        text-align: right;\n",
       "    }\n",
       "</style>\n",
       "<table border=\"1\" class=\"dataframe\">\n",
       "  <thead>\n",
       "    <tr style=\"text-align: right;\">\n",
       "      <th></th>\n",
       "      <th>first_name</th>\n",
       "      <th>last_name</th>\n",
       "      <th>gender</th>\n",
       "      <th>past_3_years_bike_related_purchases</th>\n",
       "      <th>DOB</th>\n",
       "      <th>job_title</th>\n",
       "      <th>job_industry_category</th>\n",
       "      <th>wealth_segment</th>\n",
       "      <th>deceased_indicator</th>\n",
       "      <th>owns_car</th>\n",
       "      <th>...</th>\n",
       "      <th>state</th>\n",
       "      <th>country</th>\n",
       "      <th>property_valuation</th>\n",
       "      <th>Unnamed: 16</th>\n",
       "      <th>Unnamed: 17</th>\n",
       "      <th>Unnamed: 18</th>\n",
       "      <th>Unnamed: 19</th>\n",
       "      <th>Unnamed: 20</th>\n",
       "      <th>Rank</th>\n",
       "      <th>Value</th>\n",
       "    </tr>\n",
       "  </thead>\n",
       "  <tbody>\n",
       "    <tr>\n",
       "      <th>0</th>\n",
       "      <td>Chickie</td>\n",
       "      <td>Brister</td>\n",
       "      <td>Male</td>\n",
       "      <td>86</td>\n",
       "      <td>1957-07-12</td>\n",
       "      <td>General Manager</td>\n",
       "      <td>Manufacturing</td>\n",
       "      <td>Mass Customer</td>\n",
       "      <td>N</td>\n",
       "      <td>Yes</td>\n",
       "      <td>...</td>\n",
       "      <td>QLD</td>\n",
       "      <td>Australia</td>\n",
       "      <td>6</td>\n",
       "      <td>0.56</td>\n",
       "      <td>0.70</td>\n",
       "      <td>0.8750</td>\n",
       "      <td>0.743750</td>\n",
       "      <td>1</td>\n",
       "      <td>1</td>\n",
       "      <td>1.71875</td>\n",
       "    </tr>\n",
       "    <tr>\n",
       "      <th>1</th>\n",
       "      <td>Morly</td>\n",
       "      <td>Genery</td>\n",
       "      <td>Male</td>\n",
       "      <td>69</td>\n",
       "      <td>1970-03-22</td>\n",
       "      <td>Structural Engineer</td>\n",
       "      <td>Property</td>\n",
       "      <td>Mass Customer</td>\n",
       "      <td>N</td>\n",
       "      <td>No</td>\n",
       "      <td>...</td>\n",
       "      <td>NSW</td>\n",
       "      <td>Australia</td>\n",
       "      <td>11</td>\n",
       "      <td>0.89</td>\n",
       "      <td>0.89</td>\n",
       "      <td>1.1125</td>\n",
       "      <td>0.945625</td>\n",
       "      <td>1</td>\n",
       "      <td>1</td>\n",
       "      <td>1.71875</td>\n",
       "    </tr>\n",
       "  </tbody>\n",
       "</table>\n",
       "<p>2 rows × 23 columns</p>\n",
       "</div>"
      ],
      "text/plain": [
       "  first_name last_name gender  past_3_years_bike_related_purchases        DOB  \\\n",
       "0    Chickie   Brister   Male                                   86 1957-07-12   \n",
       "1      Morly    Genery   Male                                   69 1970-03-22   \n",
       "\n",
       "             job_title job_industry_category wealth_segment  \\\n",
       "0      General Manager         Manufacturing  Mass Customer   \n",
       "1  Structural Engineer              Property  Mass Customer   \n",
       "\n",
       "  deceased_indicator owns_car  ...  state    country  property_valuation  \\\n",
       "0                  N      Yes  ...    QLD  Australia                   6   \n",
       "1                  N       No  ...    NSW  Australia                  11   \n",
       "\n",
       "  Unnamed: 16 Unnamed: 17  Unnamed: 18  Unnamed: 19  Unnamed: 20  Rank  \\\n",
       "0        0.56        0.70       0.8750     0.743750            1     1   \n",
       "1        0.89        0.89       1.1125     0.945625            1     1   \n",
       "\n",
       "     Value  \n",
       "0  1.71875  \n",
       "1  1.71875  \n",
       "\n",
       "[2 rows x 23 columns]"
      ]
     },
     "execution_count": 14,
     "metadata": {},
     "output_type": "execute_result"
    }
   ],
   "source": [
    "# reading the Transactions sheet as trans DataFrame\n",
    "new_df = pd.read_excel(xls, sheet_name=sheets[2], skiprows=1, na_values=\"n/a\")\n",
    "new_df.head(2)"
   ]
  },
  {
   "cell_type": "code",
   "execution_count": 15,
   "id": "d2b4361b",
   "metadata": {},
   "outputs": [
    {
     "name": "stdout",
     "output_type": "stream",
     "text": [
      "<class 'pandas.core.frame.DataFrame'>\n",
      "RangeIndex: 1000 entries, 0 to 999\n",
      "Data columns (total 23 columns):\n",
      " #   Column                               Non-Null Count  Dtype         \n",
      "---  ------                               --------------  -----         \n",
      " 0   first_name                           1000 non-null   object        \n",
      " 1   last_name                            971 non-null    object        \n",
      " 2   gender                               1000 non-null   object        \n",
      " 3   past_3_years_bike_related_purchases  1000 non-null   int64         \n",
      " 4   DOB                                  983 non-null    datetime64[ns]\n",
      " 5   job_title                            894 non-null    object        \n",
      " 6   job_industry_category                835 non-null    object        \n",
      " 7   wealth_segment                       1000 non-null   object        \n",
      " 8   deceased_indicator                   1000 non-null   object        \n",
      " 9   owns_car                             1000 non-null   object        \n",
      " 10  tenure                               1000 non-null   int64         \n",
      " 11  address                              1000 non-null   object        \n",
      " 12  postcode                             1000 non-null   int64         \n",
      " 13  state                                1000 non-null   object        \n",
      " 14  country                              1000 non-null   object        \n",
      " 15  property_valuation                   1000 non-null   int64         \n",
      " 16  Unnamed: 16                          1000 non-null   float64       \n",
      " 17  Unnamed: 17                          1000 non-null   float64       \n",
      " 18  Unnamed: 18                          1000 non-null   float64       \n",
      " 19  Unnamed: 19                          1000 non-null   float64       \n",
      " 20  Unnamed: 20                          1000 non-null   int64         \n",
      " 21  Rank                                 1000 non-null   int64         \n",
      " 22  Value                                1000 non-null   float64       \n",
      "dtypes: datetime64[ns](1), float64(5), int64(6), object(11)\n",
      "memory usage: 136.8+ KB\n"
     ]
    }
   ],
   "source": [
    "new_df.info()"
   ]
  },
  {
   "cell_type": "code",
   "execution_count": 16,
   "id": "b9000f23",
   "metadata": {
    "scrolled": true
   },
   "outputs": [
    {
     "name": "stdout",
     "output_type": "stream",
     "text": [
      "<class 'pandas.core.frame.DataFrame'>\n",
      "RangeIndex: 1000 entries, 0 to 999\n",
      "Data columns (total 18 columns):\n",
      " #   Column                               Non-Null Count  Dtype         \n",
      "---  ------                               --------------  -----         \n",
      " 0   first_name                           1000 non-null   object        \n",
      " 1   last_name                            971 non-null    object        \n",
      " 2   gender                               1000 non-null   object        \n",
      " 3   past_3_years_bike_related_purchases  1000 non-null   int64         \n",
      " 4   DOB                                  983 non-null    datetime64[ns]\n",
      " 5   job_title                            894 non-null    object        \n",
      " 6   job_industry_category                835 non-null    object        \n",
      " 7   wealth_segment                       1000 non-null   object        \n",
      " 8   deceased_indicator                   1000 non-null   object        \n",
      " 9   owns_car                             1000 non-null   object        \n",
      " 10  tenure                               1000 non-null   int64         \n",
      " 11  address                              1000 non-null   object        \n",
      " 12  postcode                             1000 non-null   int64         \n",
      " 13  state                                1000 non-null   object        \n",
      " 14  country                              1000 non-null   object        \n",
      " 15  property_valuation                   1000 non-null   int64         \n",
      " 16  Rank                                 1000 non-null   int64         \n",
      " 17  Value                                1000 non-null   float64       \n",
      "dtypes: datetime64[ns](1), float64(1), int64(5), object(11)\n",
      "memory usage: 97.7+ KB\n"
     ]
    }
   ],
   "source": [
    "new_df.drop(axis=1, columns=new_df.columns[16:21], inplace=True)\n",
    "new_df.info()"
   ]
  },
  {
   "cell_type": "markdown",
   "id": "7fecb52f",
   "metadata": {},
   "source": [
    "### Data Cleaning Notes:\n",
    "1. fill (last_name) with 'Not Available'.\n",
    "2. Drop Data with NaN in (DOB).\n",
    "3. fill NaN in (job_title | job_industry_category)\n",
    "3. Create 'Age' column from 'DOB' as int"
   ]
  },
  {
   "cell_type": "code",
   "execution_count": 17,
   "id": "c4106a79",
   "metadata": {},
   "outputs": [
    {
     "data": {
      "text/plain": [
       "0"
      ]
     },
     "execution_count": 17,
     "metadata": {},
     "output_type": "execute_result"
    }
   ],
   "source": [
    "new_df.last_name.fillna('Not Available', inplace=True)\n",
    "new_df.last_name.isnull().sum()"
   ]
  },
  {
   "cell_type": "code",
   "execution_count": 18,
   "id": "b188f202",
   "metadata": {},
   "outputs": [
    {
     "data": {
      "text/plain": [
       "DOB    0\n",
       "dtype: int64"
      ]
     },
     "execution_count": 18,
     "metadata": {},
     "output_type": "execute_result"
    }
   ],
   "source": [
    "new_df.dropna(subset=['DOB'], inplace=True)\n",
    "new_df[['DOB']].isna().sum()"
   ]
  },
  {
   "cell_type": "code",
   "execution_count": 19,
   "id": "181ae2dd",
   "metadata": {},
   "outputs": [
    {
     "data": {
      "text/plain": [
       "job_title                0\n",
       "job_industry_category    0\n",
       "dtype: int64"
      ]
     },
     "execution_count": 19,
     "metadata": {},
     "output_type": "execute_result"
    }
   ],
   "source": [
    "#filling the null values in Job title with the 12.5% most repeated Job_titles to avoid any missleading skewed data.\n",
    "n_p = int(len(new_df.job_title.value_counts())*12.5/100)\n",
    "new_df.job_title.value_counts()[:n_p+1]\n",
    "new_df['job_title'] = new_df['job_title'].fillna(np.random.choice(np.array(new_df.job_title.value_counts()[:10].index)))\n",
    "\n",
    "#filling the null values with random choices of the unique values in the feature based on the propability of occurance of each value\n",
    "v_list = new_df.job_industry_category.value_counts()\n",
    "p_list = [value/v_list.sum() for value in v_list]\n",
    "new_df['job_industry_category'] = new_df['job_industry_category'].fillna(np.random.choice(np.array(v_list.index), p=p_list))\n",
    "\n",
    "#check\n",
    "new_df[['job_title','job_industry_category']].isna().sum()"
   ]
  },
  {
   "cell_type": "code",
   "execution_count": 20,
   "id": "a9fb06b9",
   "metadata": {},
   "outputs": [],
   "source": [
    "#creating Age column from DOB columns\n",
    "today = dt.date.today()\n",
    "new_df['Age'] = new_df.DOB.apply(lambda d: today.year - d.year - ((today.month, today.day) < (d.month, d.day)))"
   ]
  },
  {
   "cell_type": "markdown",
   "id": "448ec3d0",
   "metadata": {},
   "source": [
    "### Ceating a new_df_1 data set with only the features used in the Modeling stage:"
   ]
  },
  {
   "cell_type": "code",
   "execution_count": 21,
   "id": "c749f9a6",
   "metadata": {},
   "outputs": [],
   "source": [
    "new_df_1= new_df[['gender', 'past_3_years_bike_related_purchases','Age', 'job_industry_category','wealth_segment',\n",
    "                  'owns_car','tenure','postcode','state','property_valuation']]"
   ]
  },
  {
   "cell_type": "markdown",
   "id": "b4362c40",
   "metadata": {},
   "source": [
    "### Additional Cleaning Notes:\n",
    "1. Transform (gender | job_industry_category | owns_car | state) into binary columns (nominal columns).\n",
    "2. Convert (wealth_segment) inti binary using label incoder (ordinal category).\n",
    "3. Change (postcode) into int."
   ]
  },
  {
   "cell_type": "code",
   "execution_count": 22,
   "id": "bd87c881",
   "metadata": {
    "scrolled": true
   },
   "outputs": [
    {
     "data": {
      "text/html": [
       "<div>\n",
       "<style scoped>\n",
       "    .dataframe tbody tr th:only-of-type {\n",
       "        vertical-align: middle;\n",
       "    }\n",
       "\n",
       "    .dataframe tbody tr th {\n",
       "        vertical-align: top;\n",
       "    }\n",
       "\n",
       "    .dataframe thead th {\n",
       "        text-align: right;\n",
       "    }\n",
       "</style>\n",
       "<table border=\"1\" class=\"dataframe\">\n",
       "  <thead>\n",
       "    <tr style=\"text-align: right;\">\n",
       "      <th></th>\n",
       "      <th>Male</th>\n",
       "      <th>past_3_years_bike_related_purchases</th>\n",
       "      <th>Age</th>\n",
       "      <th>job_industry_category</th>\n",
       "      <th>wealth_segment</th>\n",
       "      <th>owns_car</th>\n",
       "      <th>tenure</th>\n",
       "      <th>postcode</th>\n",
       "      <th>state</th>\n",
       "      <th>property_valuation</th>\n",
       "    </tr>\n",
       "  </thead>\n",
       "  <tbody>\n",
       "    <tr>\n",
       "      <th>0</th>\n",
       "      <td>1</td>\n",
       "      <td>86</td>\n",
       "      <td>64</td>\n",
       "      <td>Manufacturing</td>\n",
       "      <td>Mass Customer</td>\n",
       "      <td>Yes</td>\n",
       "      <td>14</td>\n",
       "      <td>4500</td>\n",
       "      <td>QLD</td>\n",
       "      <td>6</td>\n",
       "    </tr>\n",
       "  </tbody>\n",
       "</table>\n",
       "</div>"
      ],
      "text/plain": [
       "   Male  past_3_years_bike_related_purchases  Age job_industry_category  \\\n",
       "0     1                                   86   64         Manufacturing   \n",
       "\n",
       "  wealth_segment owns_car  tenure  postcode state  property_valuation  \n",
       "0  Mass Customer      Yes      14      4500   QLD                   6  "
      ]
     },
     "execution_count": 22,
     "metadata": {},
     "output_type": "execute_result"
    }
   ],
   "source": [
    "new_df_1 = pd.concat([pd.get_dummies(new_df_1.gender,drop_first=True),new_df_1], axis=1)\n",
    "new_df_1.drop(axis=1, columns='gender', inplace=True)\n",
    "new_df_1.head(1)"
   ]
  },
  {
   "cell_type": "code",
   "execution_count": 23,
   "id": "132b3109",
   "metadata": {},
   "outputs": [
    {
     "data": {
      "text/html": [
       "<div>\n",
       "<style scoped>\n",
       "    .dataframe tbody tr th:only-of-type {\n",
       "        vertical-align: middle;\n",
       "    }\n",
       "\n",
       "    .dataframe tbody tr th {\n",
       "        vertical-align: top;\n",
       "    }\n",
       "\n",
       "    .dataframe thead th {\n",
       "        text-align: right;\n",
       "    }\n",
       "</style>\n",
       "<table border=\"1\" class=\"dataframe\">\n",
       "  <thead>\n",
       "    <tr style=\"text-align: right;\">\n",
       "      <th></th>\n",
       "      <th>Entertainment</th>\n",
       "      <th>Financial Services</th>\n",
       "      <th>Health</th>\n",
       "      <th>IT</th>\n",
       "      <th>Manufacturing</th>\n",
       "      <th>Property</th>\n",
       "      <th>Retail</th>\n",
       "      <th>Telecommunications</th>\n",
       "      <th>Male</th>\n",
       "      <th>past_3_years_bike_related_purchases</th>\n",
       "      <th>Age</th>\n",
       "      <th>wealth_segment</th>\n",
       "      <th>owns_car</th>\n",
       "      <th>tenure</th>\n",
       "      <th>postcode</th>\n",
       "      <th>state</th>\n",
       "      <th>property_valuation</th>\n",
       "    </tr>\n",
       "  </thead>\n",
       "  <tbody>\n",
       "    <tr>\n",
       "      <th>0</th>\n",
       "      <td>0</td>\n",
       "      <td>0</td>\n",
       "      <td>0</td>\n",
       "      <td>0</td>\n",
       "      <td>1</td>\n",
       "      <td>0</td>\n",
       "      <td>0</td>\n",
       "      <td>0</td>\n",
       "      <td>1</td>\n",
       "      <td>86</td>\n",
       "      <td>64</td>\n",
       "      <td>Mass Customer</td>\n",
       "      <td>Yes</td>\n",
       "      <td>14</td>\n",
       "      <td>4500</td>\n",
       "      <td>QLD</td>\n",
       "      <td>6</td>\n",
       "    </tr>\n",
       "  </tbody>\n",
       "</table>\n",
       "</div>"
      ],
      "text/plain": [
       "   Entertainment  Financial Services  Health  IT  Manufacturing  Property  \\\n",
       "0              0                   0       0   0              1         0   \n",
       "\n",
       "   Retail  Telecommunications  Male  past_3_years_bike_related_purchases  Age  \\\n",
       "0       0                   0     1                                   86   64   \n",
       "\n",
       "  wealth_segment owns_car  tenure  postcode state  property_valuation  \n",
       "0  Mass Customer      Yes      14      4500   QLD                   6  "
      ]
     },
     "execution_count": 23,
     "metadata": {},
     "output_type": "execute_result"
    }
   ],
   "source": [
    "new_df_1 = pd.concat([pd.get_dummies(new_df_1.job_industry_category,drop_first=True),new_df_1], axis=1)\n",
    "new_df_1.drop(axis=1, columns='job_industry_category', inplace=True)\n",
    "new_df_1.head(1)"
   ]
  },
  {
   "cell_type": "code",
   "execution_count": 24,
   "id": "6e6ce1bf",
   "metadata": {},
   "outputs": [
    {
     "data": {
      "text/html": [
       "<div>\n",
       "<style scoped>\n",
       "    .dataframe tbody tr th:only-of-type {\n",
       "        vertical-align: middle;\n",
       "    }\n",
       "\n",
       "    .dataframe tbody tr th {\n",
       "        vertical-align: top;\n",
       "    }\n",
       "\n",
       "    .dataframe thead th {\n",
       "        text-align: right;\n",
       "    }\n",
       "</style>\n",
       "<table border=\"1\" class=\"dataframe\">\n",
       "  <thead>\n",
       "    <tr style=\"text-align: right;\">\n",
       "      <th></th>\n",
       "      <th>owns_car_Yes</th>\n",
       "      <th>Entertainment</th>\n",
       "      <th>Financial Services</th>\n",
       "      <th>Health</th>\n",
       "      <th>IT</th>\n",
       "      <th>Manufacturing</th>\n",
       "      <th>Property</th>\n",
       "      <th>Retail</th>\n",
       "      <th>Telecommunications</th>\n",
       "      <th>Male</th>\n",
       "      <th>past_3_years_bike_related_purchases</th>\n",
       "      <th>Age</th>\n",
       "      <th>wealth_segment</th>\n",
       "      <th>tenure</th>\n",
       "      <th>postcode</th>\n",
       "      <th>state</th>\n",
       "      <th>property_valuation</th>\n",
       "    </tr>\n",
       "  </thead>\n",
       "  <tbody>\n",
       "    <tr>\n",
       "      <th>0</th>\n",
       "      <td>1</td>\n",
       "      <td>0</td>\n",
       "      <td>0</td>\n",
       "      <td>0</td>\n",
       "      <td>0</td>\n",
       "      <td>1</td>\n",
       "      <td>0</td>\n",
       "      <td>0</td>\n",
       "      <td>0</td>\n",
       "      <td>1</td>\n",
       "      <td>86</td>\n",
       "      <td>64</td>\n",
       "      <td>Mass Customer</td>\n",
       "      <td>14</td>\n",
       "      <td>4500</td>\n",
       "      <td>QLD</td>\n",
       "      <td>6</td>\n",
       "    </tr>\n",
       "  </tbody>\n",
       "</table>\n",
       "</div>"
      ],
      "text/plain": [
       "   owns_car_Yes  Entertainment  Financial Services  Health  IT  Manufacturing  \\\n",
       "0             1              0                   0       0   0              1   \n",
       "\n",
       "   Property  Retail  Telecommunications  Male  \\\n",
       "0         0       0                   0     1   \n",
       "\n",
       "   past_3_years_bike_related_purchases  Age wealth_segment  tenure  postcode  \\\n",
       "0                                   86   64  Mass Customer      14      4500   \n",
       "\n",
       "  state  property_valuation  \n",
       "0   QLD                   6  "
      ]
     },
     "execution_count": 24,
     "metadata": {},
     "output_type": "execute_result"
    }
   ],
   "source": [
    "new_df_1 = pd.concat([pd.get_dummies(new_df_1.owns_car,drop_first=True),new_df_1], axis=1)\n",
    "new_df_1.drop(axis=1, columns='owns_car', inplace=True)\n",
    "new_df_1.rename(columns={'Yes':'owns_car_Yes'}, inplace=True)\n",
    "new_df_1.head(1)"
   ]
  },
  {
   "cell_type": "code",
   "execution_count": 25,
   "id": "31b198fb",
   "metadata": {},
   "outputs": [
    {
     "data": {
      "text/html": [
       "<div>\n",
       "<style scoped>\n",
       "    .dataframe tbody tr th:only-of-type {\n",
       "        vertical-align: middle;\n",
       "    }\n",
       "\n",
       "    .dataframe tbody tr th {\n",
       "        vertical-align: top;\n",
       "    }\n",
       "\n",
       "    .dataframe thead th {\n",
       "        text-align: right;\n",
       "    }\n",
       "</style>\n",
       "<table border=\"1\" class=\"dataframe\">\n",
       "  <thead>\n",
       "    <tr style=\"text-align: right;\">\n",
       "      <th></th>\n",
       "      <th>QLD</th>\n",
       "      <th>VIC</th>\n",
       "      <th>owns_car_Yes</th>\n",
       "      <th>Entertainment</th>\n",
       "      <th>Financial Services</th>\n",
       "      <th>Health</th>\n",
       "      <th>IT</th>\n",
       "      <th>Manufacturing</th>\n",
       "      <th>Property</th>\n",
       "      <th>Retail</th>\n",
       "      <th>Telecommunications</th>\n",
       "      <th>Male</th>\n",
       "      <th>past_3_years_bike_related_purchases</th>\n",
       "      <th>Age</th>\n",
       "      <th>wealth_segment</th>\n",
       "      <th>tenure</th>\n",
       "      <th>postcode</th>\n",
       "      <th>property_valuation</th>\n",
       "    </tr>\n",
       "  </thead>\n",
       "  <tbody>\n",
       "    <tr>\n",
       "      <th>0</th>\n",
       "      <td>1</td>\n",
       "      <td>0</td>\n",
       "      <td>1</td>\n",
       "      <td>0</td>\n",
       "      <td>0</td>\n",
       "      <td>0</td>\n",
       "      <td>0</td>\n",
       "      <td>1</td>\n",
       "      <td>0</td>\n",
       "      <td>0</td>\n",
       "      <td>0</td>\n",
       "      <td>1</td>\n",
       "      <td>86</td>\n",
       "      <td>64</td>\n",
       "      <td>Mass Customer</td>\n",
       "      <td>14</td>\n",
       "      <td>4500</td>\n",
       "      <td>6</td>\n",
       "    </tr>\n",
       "  </tbody>\n",
       "</table>\n",
       "</div>"
      ],
      "text/plain": [
       "   QLD  VIC  owns_car_Yes  Entertainment  Financial Services  Health  IT  \\\n",
       "0    1    0             1              0                   0       0   0   \n",
       "\n",
       "   Manufacturing  Property  Retail  Telecommunications  Male  \\\n",
       "0              1         0       0                   0     1   \n",
       "\n",
       "   past_3_years_bike_related_purchases  Age wealth_segment  tenure  postcode  \\\n",
       "0                                   86   64  Mass Customer      14      4500   \n",
       "\n",
       "   property_valuation  \n",
       "0                   6  "
      ]
     },
     "execution_count": 25,
     "metadata": {},
     "output_type": "execute_result"
    }
   ],
   "source": [
    "new_df_1 = pd.concat([pd.get_dummies(new_df_1.state,drop_first=True),new_df_1], axis=1)\n",
    "new_df_1.drop(axis=1, columns='state', inplace=True)\n",
    "new_df_1.head(1)"
   ]
  },
  {
   "cell_type": "code",
   "execution_count": 26,
   "id": "7b2e96c7",
   "metadata": {},
   "outputs": [],
   "source": [
    "# changing wealth_segment data columns using Label  Encoder into binary\n",
    "new_df_1['wealth_segment']=LabelEncoder().fit_transform(new_df_1['wealth_segment'])"
   ]
  },
  {
   "cell_type": "code",
   "execution_count": 27,
   "id": "b6a9537c",
   "metadata": {},
   "outputs": [],
   "source": [
    "new_df_1.postcode = new_df_1.postcode.astype(int)"
   ]
  },
  {
   "cell_type": "code",
   "execution_count": 28,
   "id": "fd550f79",
   "metadata": {},
   "outputs": [
    {
     "name": "stdout",
     "output_type": "stream",
     "text": [
      "<class 'pandas.core.frame.DataFrame'>\n",
      "Int64Index: 983 entries, 0 to 999\n",
      "Data columns (total 18 columns):\n",
      " #   Column                               Non-Null Count  Dtype\n",
      "---  ------                               --------------  -----\n",
      " 0   QLD                                  983 non-null    uint8\n",
      " 1   VIC                                  983 non-null    uint8\n",
      " 2   owns_car_Yes                         983 non-null    uint8\n",
      " 3   Entertainment                        983 non-null    uint8\n",
      " 4   Financial Services                   983 non-null    uint8\n",
      " 5   Health                               983 non-null    uint8\n",
      " 6   IT                                   983 non-null    uint8\n",
      " 7   Manufacturing                        983 non-null    uint8\n",
      " 8   Property                             983 non-null    uint8\n",
      " 9   Retail                               983 non-null    uint8\n",
      " 10  Telecommunications                   983 non-null    uint8\n",
      " 11  Male                                 983 non-null    uint8\n",
      " 12  past_3_years_bike_related_purchases  983 non-null    int64\n",
      " 13  Age                                  983 non-null    int64\n",
      " 14  wealth_segment                       983 non-null    int32\n",
      " 15  tenure                               983 non-null    int64\n",
      " 16  postcode                             983 non-null    int32\n",
      " 17  property_valuation                   983 non-null    int64\n",
      "dtypes: int32(2), int64(4), uint8(12)\n",
      "memory usage: 57.6 KB\n"
     ]
    }
   ],
   "source": [
    "new_df_1.info()"
   ]
  },
  {
   "cell_type": "code",
   "execution_count": 29,
   "id": "5f1f89ea",
   "metadata": {},
   "outputs": [],
   "source": [
    "assert old_df_1.columns.all() == new_df_1.columns.all()"
   ]
  },
  {
   "cell_type": "markdown",
   "id": "98429163",
   "metadata": {},
   "source": [
    "# Model building:\n",
    "* **We will train 2 ML models on the old customers dataset,**\n",
    "* **Choose the one with the more precious predictions,and**\n",
    "* **Use it to Predict on the new customers dataset.**"
   ]
  },
  {
   "cell_type": "code",
   "execution_count": 30,
   "id": "a13ea332",
   "metadata": {},
   "outputs": [],
   "source": [
    "# Splitting old_df_1 dataset\n",
    "from sklearn.model_selection import train_test_split\n",
    "train_features, test_features, train_labels, test_labels = train_test_split(old_df_1,\n",
    "                                                                            old_df['RFM_loyalty_level'],\n",
    "                                                                            test_size= 0.25, random_state=10,)"
   ]
  },
  {
   "cell_type": "code",
   "execution_count": 31,
   "id": "f4efacd3",
   "metadata": {},
   "outputs": [],
   "source": [
    "# Decision tree ML Classification Model\n",
    "from sklearn.tree import DecisionTreeClassifier\n",
    "tree = DecisionTreeClassifier(random_state=10)\n",
    "tree.fit(train_features, train_labels)\n",
    "\n",
    "# Predict the labels for the test data\n",
    "pred_labels_tree = tree.predict(test_features)"
   ]
  },
  {
   "cell_type": "code",
   "execution_count": 32,
   "id": "3f53182a",
   "metadata": {},
   "outputs": [
    {
     "name": "stdout",
     "output_type": "stream",
     "text": [
      "Decision Tree: \n",
      "               precision    recall  f1-score   support\n",
      "\n",
      "      Bronze       0.99      0.94      0.97       454\n",
      "        Gold       0.98      0.99      0.99      1223\n",
      "    Platinum       0.99      1.00      0.99      2301\n",
      "      Silver       1.00      0.97      0.98       919\n",
      "\n",
      "    accuracy                           0.99      4897\n",
      "   macro avg       0.99      0.98      0.98      4897\n",
      "weighted avg       0.99      0.99      0.99      4897\n",
      "\n"
     ]
    }
   ],
   "source": [
    "# The classification report\n",
    "from sklearn.metrics import classification_report\n",
    "class_rep_tree = classification_report(test_labels, pred_labels_tree)\n",
    "print(\"Decision Tree: \\n\", class_rep_tree)"
   ]
  },
  {
   "cell_type": "code",
   "execution_count": 33,
   "id": "5bc3acf0",
   "metadata": {},
   "outputs": [],
   "source": [
    "# Decision RandomForestClassifier ML Classification Model\n",
    "from sklearn.ensemble import RandomForestClassifier\n",
    "rs = RandomForestClassifier()\n",
    "rs.fit(train_features, train_labels)\n",
    "\n",
    "# Predict the labels for the test data\n",
    "pred_labels_rs = rs.predict(test_features)"
   ]
  },
  {
   "cell_type": "code",
   "execution_count": 34,
   "id": "363d6bbc",
   "metadata": {},
   "outputs": [
    {
     "name": "stdout",
     "output_type": "stream",
     "text": [
      "RandomForestClassifier: \n",
      "               precision    recall  f1-score   support\n",
      "\n",
      "      Bronze       1.00      0.94      0.97       454\n",
      "        Gold       0.98      1.00      0.99      1223\n",
      "    Platinum       0.99      1.00      0.99      2301\n",
      "      Silver       0.99      0.97      0.98       919\n",
      "\n",
      "    accuracy                           0.99      4897\n",
      "   macro avg       0.99      0.98      0.98      4897\n",
      "weighted avg       0.99      0.99      0.99      4897\n",
      "\n"
     ]
    }
   ],
   "source": [
    "# Create the classification report\n",
    "class_rep_rs = classification_report(test_labels, pred_labels_rs)\n",
    "print(\"RandomForestClassifier: \\n\", class_rep_rs)"
   ]
  },
  {
   "cell_type": "markdown",
   "id": "750f4262",
   "metadata": {},
   "source": [
    "**Using Random Forest Classifier, It has higher Precision Than Decision Tree Model**"
   ]
  },
  {
   "cell_type": "code",
   "execution_count": 35,
   "id": "5477b976",
   "metadata": {},
   "outputs": [],
   "source": [
    "# predict the new segments using decision tree model\n",
    "output_label = rs.predict(new_df_1)"
   ]
  },
  {
   "cell_type": "code",
   "execution_count": 36,
   "id": "7c3096ac",
   "metadata": {},
   "outputs": [],
   "source": [
    "#converting an array into a dataframe column\n",
    "new_df['RFM_segments_predicted']=output_label.tolist()"
   ]
  },
  {
   "cell_type": "code",
   "execution_count": 37,
   "id": "65adf963",
   "metadata": {},
   "outputs": [
    {
     "data": {
      "text/html": [
       "<div>\n",
       "<style scoped>\n",
       "    .dataframe tbody tr th:only-of-type {\n",
       "        vertical-align: middle;\n",
       "    }\n",
       "\n",
       "    .dataframe tbody tr th {\n",
       "        vertical-align: top;\n",
       "    }\n",
       "\n",
       "    .dataframe thead th {\n",
       "        text-align: right;\n",
       "    }\n",
       "</style>\n",
       "<table border=\"1\" class=\"dataframe\">\n",
       "  <thead>\n",
       "    <tr style=\"text-align: right;\">\n",
       "      <th></th>\n",
       "      <th>first_name</th>\n",
       "      <th>last_name</th>\n",
       "      <th>gender</th>\n",
       "      <th>RFM_segments_predicted</th>\n",
       "    </tr>\n",
       "  </thead>\n",
       "  <tbody>\n",
       "    <tr>\n",
       "      <th>0</th>\n",
       "      <td>Chickie</td>\n",
       "      <td>Brister</td>\n",
       "      <td>Male</td>\n",
       "      <td>Platinum</td>\n",
       "    </tr>\n",
       "    <tr>\n",
       "      <th>1</th>\n",
       "      <td>Morly</td>\n",
       "      <td>Genery</td>\n",
       "      <td>Male</td>\n",
       "      <td>Gold</td>\n",
       "    </tr>\n",
       "    <tr>\n",
       "      <th>2</th>\n",
       "      <td>Ardelis</td>\n",
       "      <td>Forrester</td>\n",
       "      <td>Female</td>\n",
       "      <td>Bronze</td>\n",
       "    </tr>\n",
       "    <tr>\n",
       "      <th>3</th>\n",
       "      <td>Lucine</td>\n",
       "      <td>Stutt</td>\n",
       "      <td>Female</td>\n",
       "      <td>Platinum</td>\n",
       "    </tr>\n",
       "    <tr>\n",
       "      <th>4</th>\n",
       "      <td>Melinda</td>\n",
       "      <td>Hadlee</td>\n",
       "      <td>Female</td>\n",
       "      <td>Gold</td>\n",
       "    </tr>\n",
       "    <tr>\n",
       "      <th>...</th>\n",
       "      <td>...</td>\n",
       "      <td>...</td>\n",
       "      <td>...</td>\n",
       "      <td>...</td>\n",
       "    </tr>\n",
       "    <tr>\n",
       "      <th>995</th>\n",
       "      <td>Ferdinand</td>\n",
       "      <td>Romanetti</td>\n",
       "      <td>Male</td>\n",
       "      <td>Platinum</td>\n",
       "    </tr>\n",
       "    <tr>\n",
       "      <th>996</th>\n",
       "      <td>Burk</td>\n",
       "      <td>Wortley</td>\n",
       "      <td>Male</td>\n",
       "      <td>Silver</td>\n",
       "    </tr>\n",
       "    <tr>\n",
       "      <th>997</th>\n",
       "      <td>Melloney</td>\n",
       "      <td>Temby</td>\n",
       "      <td>Female</td>\n",
       "      <td>Platinum</td>\n",
       "    </tr>\n",
       "    <tr>\n",
       "      <th>998</th>\n",
       "      <td>Dickie</td>\n",
       "      <td>Cubbini</td>\n",
       "      <td>Male</td>\n",
       "      <td>Platinum</td>\n",
       "    </tr>\n",
       "    <tr>\n",
       "      <th>999</th>\n",
       "      <td>Sylas</td>\n",
       "      <td>Duffill</td>\n",
       "      <td>Male</td>\n",
       "      <td>Gold</td>\n",
       "    </tr>\n",
       "  </tbody>\n",
       "</table>\n",
       "<p>983 rows × 4 columns</p>\n",
       "</div>"
      ],
      "text/plain": [
       "    first_name  last_name  gender RFM_segments_predicted\n",
       "0      Chickie    Brister    Male               Platinum\n",
       "1        Morly     Genery    Male                   Gold\n",
       "2      Ardelis  Forrester  Female                 Bronze\n",
       "3       Lucine      Stutt  Female               Platinum\n",
       "4      Melinda     Hadlee  Female                   Gold\n",
       "..         ...        ...     ...                    ...\n",
       "995  Ferdinand  Romanetti    Male               Platinum\n",
       "996       Burk    Wortley    Male                 Silver\n",
       "997   Melloney      Temby  Female               Platinum\n",
       "998     Dickie    Cubbini    Male               Platinum\n",
       "999      Sylas    Duffill    Male                   Gold\n",
       "\n",
       "[983 rows x 4 columns]"
      ]
     },
     "execution_count": 37,
     "metadata": {},
     "output_type": "execute_result"
    }
   ],
   "source": [
    "#checking final results\n",
    "new_df[['first_name','last_name','gender','RFM_segments_predicted']]"
   ]
  },
  {
   "cell_type": "code",
   "execution_count": 38,
   "id": "04e17f38",
   "metadata": {},
   "outputs": [
    {
     "name": "stdout",
     "output_type": "stream",
     "text": [
      "<class 'pandas.core.frame.DataFrame'>\n",
      "Int64Index: 983 entries, 0 to 999\n",
      "Data columns (total 20 columns):\n",
      " #   Column                               Non-Null Count  Dtype         \n",
      "---  ------                               --------------  -----         \n",
      " 0   first_name                           983 non-null    object        \n",
      " 1   last_name                            983 non-null    object        \n",
      " 2   gender                               983 non-null    object        \n",
      " 3   past_3_years_bike_related_purchases  983 non-null    int64         \n",
      " 4   DOB                                  983 non-null    datetime64[ns]\n",
      " 5   job_title                            983 non-null    object        \n",
      " 6   job_industry_category                983 non-null    object        \n",
      " 7   wealth_segment                       983 non-null    object        \n",
      " 8   deceased_indicator                   983 non-null    object        \n",
      " 9   owns_car                             983 non-null    object        \n",
      " 10  tenure                               983 non-null    int64         \n",
      " 11  address                              983 non-null    object        \n",
      " 12  postcode                             983 non-null    int64         \n",
      " 13  state                                983 non-null    object        \n",
      " 14  country                              983 non-null    object        \n",
      " 15  property_valuation                   983 non-null    int64         \n",
      " 16  Rank                                 983 non-null    int64         \n",
      " 17  Value                                983 non-null    float64       \n",
      " 18  Age                                  983 non-null    int64         \n",
      " 19  RFM_segments_predicted               983 non-null    object        \n",
      "dtypes: datetime64[ns](1), float64(1), int64(6), object(12)\n",
      "memory usage: 115.2+ KB\n"
     ]
    }
   ],
   "source": [
    "new_df.info()"
   ]
  },
  {
   "cell_type": "markdown",
   "id": "8d8dff6c",
   "metadata": {},
   "source": [
    "#### Extracting the predicted segments of the new Customer list into CSV file for Dashboard Creation."
   ]
  },
  {
   "cell_type": "code",
   "execution_count": 39,
   "id": "0eb5b721",
   "metadata": {},
   "outputs": [],
   "source": [
    "new_df.to_csv(\"new_customer_recommendations.csv\")"
   ]
  }
 ],
 "metadata": {
  "kernelspec": {
   "display_name": "Python 3",
   "language": "python",
   "name": "python3"
  },
  "language_info": {
   "codemirror_mode": {
    "name": "ipython",
    "version": 3
   },
   "file_extension": ".py",
   "mimetype": "text/x-python",
   "name": "python",
   "nbconvert_exporter": "python",
   "pygments_lexer": "ipython3",
   "version": "3.8.8"
  }
 },
 "nbformat": 4,
 "nbformat_minor": 5
}
